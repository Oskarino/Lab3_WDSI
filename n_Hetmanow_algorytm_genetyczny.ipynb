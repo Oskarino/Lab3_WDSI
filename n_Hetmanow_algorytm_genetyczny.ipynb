{
  "nbformat": 4,
  "nbformat_minor": 0,
  "metadata": {
    "colab": {
      "name": "n-Hetmanow_algorytm_genetyczny.ipynb",
      "provenance": []
    },
    "kernelspec": {
      "name": "python3",
      "display_name": "Python 3"
    },
    "language_info": {
      "name": "python"
    }
  },
  "cells": [
    {
      "cell_type": "code",
      "metadata": {
        "id": "fb1BzkF-grzi"
      },
      "source": [
        "import matplotlib.pyplot as plt\n",
        "import random\n",
        "import copy\n",
        "import tqdm\n",
        "from itertools import combinations"
      ],
      "execution_count": 23,
      "outputs": []
    },
    {
      "cell_type": "code",
      "metadata": {
        "id": "18o5sQ38hMcW"
      },
      "source": [
        "class Hetman():\n",
        "  \"\"\"Klasa definiujaca problem\"\"\"\n",
        "  def __init__(self, n:int): \n",
        "    if n < 4:\n",
        "      raise ValueError(\"The size must equal or greater than 4!\")\n",
        "    self.n = n \n",
        "    self.permutation = list(range(n))\n",
        "    random.shuffle(self.permutation)\n",
        "\n",
        "\n",
        "  def apply_change(self, action):\n",
        "    \"Stan, który jest rezultatem wykonania akcji `action` na stanie `state`.\"\n",
        "    row, new_row = action\n",
        "    self.permutation[row], self.permutation[new_row] = self.permutation[new_row], self.permutation[row]\n",
        "\n",
        "  def mutate(self):\n",
        "    action = (random.randint(0, self.n - 1), random.randint(0, self.n - 1))\n",
        "    self.apply_change(action)\n",
        "\n",
        "  def goal_function(self):\n",
        "      all_combinations = combinations(zip(range(self.n), self.permutation), 2)\n",
        "      return sum([Hetman._is_hit(hetman_1, hetman_2) for hetman_1, hetman_2 in all_combinations])\n",
        "\n",
        "  @staticmethod\n",
        "  def _is_hit( hetman_1:tuple, hetman_2:tuple):\n",
        "    if hetman_1[0] == hetman_2[0]:\n",
        "      #same row\n",
        "      #print(hetman_1, hetman_2)\n",
        "      return True\n",
        "    if hetman_1[1] == hetman_2[1]:\n",
        "      #same column\n",
        "      #print(hetman_1, hetman_2)\n",
        "      return True\n",
        "    if abs(hetman_1[0] - hetman_2[0]) == abs(hetman_1[1] - hetman_2[1]):\n",
        "      #diagonal\n",
        "      #print(hetman_1, hetman_2)\n",
        "      return True\n",
        "    #passed all checks\n",
        "    return False\n",
        "\n",
        "  def permutation_to_board(self):\n",
        "      state = [[0 for i in range(self.n)] for i in range(self.n)]\n",
        "      for row, col in zip(range(len(self.permutation)), self.permutation):\n",
        "          state[row][col] = 1\n",
        "      return state\n"
      ],
      "execution_count": 24,
      "outputs": []
    },
    {
      "cell_type": "code",
      "metadata": {
        "id": "u9tKws4ohOx5"
      },
      "source": [
        "def visualize_table(state):\n",
        "  plt.matshow(state, cmap=\"Greys\")\n",
        "  plt.grid()\n",
        "  plt.show()"
      ],
      "execution_count": 25,
      "outputs": []
    },
    {
      "cell_type": "markdown",
      "metadata": {
        "id": "wn9H90KxhRNc"
      },
      "source": [
        "#Testy wizualizacji"
      ]
    },
    {
      "cell_type": "code",
      "metadata": {
        "id": "XzDPi0wjhUZ2"
      },
      "source": [
        "my_problem = Hetman(8)"
      ],
      "execution_count": 26,
      "outputs": []
    },
    {
      "cell_type": "code",
      "metadata": {
        "colab": {
          "base_uri": "https://localhost:8080/",
          "height": 275
        },
        "id": "8QYQn1RhhWIe",
        "outputId": "2d02928a-db29-42ef-94d1-77509e2dcdb1"
      },
      "source": [
        "visualize_table(my_problem.permutation_to_board())"
      ],
      "execution_count": 27,
      "outputs": [
        {
          "output_type": "display_data",
          "data": {
            "image/png": "[encoded data removed]",
            "text/plain": [
              "<Figure size 288x288 with 1 Axes>"
            ]
          },
          "metadata": {
            "needs_background": "light"
          }
        }
      ]
    },
    {
      "cell_type": "code",
      "metadata": {
        "colab": {
          "base_uri": "https://localhost:8080/",
          "height": 275
        },
        "id": "d8WnqDwE3xl9",
        "outputId": "051cd98f-fadc-4809-e782-6d03e6d18ca1"
      },
      "source": [
        "#one  neighbour\n",
        "my_problem.mutate()\n",
        "visualize_table(my_problem.permutation_to_board())"
      ],
      "execution_count": 28,
      "outputs": [
        {
          "output_type": "display_data",
          "data": {
            "image/png": "[encoded data removed]",
            "text/plain": [
              "<Figure size 288x288 with 1 Axes>"
            ]
          },
          "metadata": {
            "needs_background": "light"
          }
        }
      ]
    },
    {
      "cell_type": "code",
      "metadata": {
        "colab": {
          "base_uri": "https://localhost:8080/"
        },
        "id": "54IDCjhj3z5l",
        "outputId": "c88fb547-dba0-4338-8a93-93b218027947"
      },
      "source": [
        "my_problem.goal_function()"
      ],
      "execution_count": 29,
      "outputs": [
        {
          "output_type": "execute_result",
          "data": {
            "text/plain": [
              "4"
            ]
          },
          "metadata": {},
          "execution_count": 29
        }
      ]
    },
    {
      "cell_type": "markdown",
      "metadata": {
        "id": "JOAiuMJr38f-"
      },
      "source": [
        "#Populacja"
      ]
    },
    {
      "cell_type": "code",
      "metadata": {
        "id": "2gzJ3dXR3-mm"
      },
      "source": [
        "class Population():\n",
        "  def __init__(self, size:int, problem_size=8):\n",
        "    self.problem_size = problem_size\n",
        "    self.size = size\n",
        "    self.members = [Hetman(problem_size) for _ in range(size)]\n",
        "    self.goal = [member.goal_function() for member in self.members]\n",
        "\n",
        "  def sort(self):\n",
        "    self.goal = [member.goal_function() for member in self.members]\n",
        "    zipped_sorted = sorted(zip(self.members, self.goal), key=lambda pair: pair[1], reverse=True)\n",
        "    self.members = [pair[0] for pair in zipped_sorted]\n",
        "\n",
        "  def get_best(self):\n",
        "    self.sort()\n",
        "    return self.members[-1]\n",
        "\n",
        "  def get_mean_goal(self):\n",
        "    return sum(self.goal) / self.size"
      ],
      "execution_count": 30,
      "outputs": []
    },
    {
      "cell_type": "code",
      "metadata": {
        "colab": {
          "base_uri": "https://localhost:8080/",
          "height": 310
        },
        "id": "IyTqIgQh3-dm",
        "outputId": "ee342b74-4e55-4a62-e712-e22db9052b45"
      },
      "source": [
        "my_population = Population(50, 8)\n",
        "best_solution = my_population.get_best()\n",
        "goal = best_solution.goal_function()\n",
        "mean_goal = my_population.get_mean_goal()\n",
        "\n",
        "#visualize solution\n",
        "# print(f\"Solution found within {steps} steps.\")\n",
        "print(f\"Solution's goal function {goal}\")\n",
        "print(f\"Populations's mean goal function {mean_goal}\")\n",
        "visualize_table(best_solution.permutation_to_board())"
      ],
      "execution_count": 31,
      "outputs": [
        {
          "output_type": "stream",
          "name": "stdout",
          "text": [
            "Solution's goal function 3\n",
            "Populations's mean goal function 5.34\n"
          ]
        },
        {
          "output_type": "display_data",
          "data": {
            "image/png": "[encoded data removed]",
            "text/plain": [
              "<Figure size 288x288 with 1 Axes>"
            ]
          },
          "metadata": {
            "needs_background": "light"
          }
        }
      ]
    },
    {
      "cell_type": "code",
      "metadata": {
        "id": "Vtn-S-A04BqZ"
      },
      "source": [
        "class GA:\n",
        "  def __init__(self, population:Population, prawdopodobienstwo_mutacji:float, liczba_generacji: int):\n",
        "    \"\"\"prawdopodobieństwo mutacji zakres większe od 0,3 mniejsze od 0,8 \n",
        "    liczba generacji zakres od 100 do 10000\"\"\"\n",
        "    self.population = population\n",
        "    self.mutation_rate = prawdopodobienstwo_mutacji\n",
        "    self.n_generations = liczba_generacji\n",
        "    self.max_roulette = int((population.size * (population.size + 1))/2)\n",
        "\n",
        "\n",
        "  def solve(self):\n",
        "    mean_goals = [self.population.get_mean_goal()]\n",
        "    best_goals = [self.population.get_best().goal_function()]\n",
        "\n",
        "    for _ in tqdm.tqdm((range(self.n_generations))):\n",
        "      #Algorithm\n",
        "      #stop condition\n",
        "      if best_goals[-1] == 0:\n",
        "        break\n",
        "\n",
        "      self.population.members = self.select_new_population_members()\n",
        "\n",
        "      for i in range(self.population.size):\n",
        "        #by probability - stochastic elelmet\n",
        "        if random.random() < self.mutation_rate:\n",
        "          self.population.members[i].mutate()\n",
        "\n",
        "\n",
        "      mean_goals.append(self.population.get_mean_goal())\n",
        "      best_goals.append(self.population.get_best().goal_function())\n",
        "\n",
        "    return mean_goals, best_goals\n",
        "\n",
        "  def select_new_population_members(self):\n",
        "    new_members = []\n",
        "    for _ in range(self.population.size):\n",
        "      #random number in range 0 to self.max_roulette\n",
        "      number = random.random()*self.max_roulette\n",
        "      index = self.roulette(number)\n",
        "      new_members.append(copy.deepcopy(self.population.members[index]))\n",
        "    return self.population.members\n",
        "\n",
        "  def roulette(self, number):\n",
        "    \"\"\" Return index of a member selected by the roulette\"\"\"\n",
        "    for i in range(self.max_roulette):\n",
        "      number -= (i + 1)\n",
        "      if number < 0: \n",
        "        return i\n"
      ],
      "execution_count": 32,
      "outputs": []
    },
    {
      "cell_type": "code",
      "metadata": {
        "colab": {
          "base_uri": "https://localhost:8080/",
          "height": 576
        },
        "id": "hLTsfcQ04D-q",
        "outputId": "c2e86b64-e8a7-48ac-83ff-fc5ce6398b9c"
      },
      "source": [
        "liczba_generacji =1000\n",
        "prawdopodobienstwo_mutacji = 0.3\n",
        "wielkosc_szachownicy = 10\n",
        "liczba_osobnikow = 50\n",
        "\n",
        "\n",
        "my_population = Population(liczba_osobnikow, wielkosc_szachownicy)\n",
        "\n",
        "ga = GA(my_population, prawdopodobienstwo_mutacji = prawdopodobienstwo_mutacji, liczba_generacji= liczba_generacji)\n",
        "mean_goals, best_goals = ga.solve()\n",
        "\n",
        "\n",
        "#wykresy dla zmian w statystykach\n",
        "plt.plot(range(len(mean_goals)), mean_goals, label=\"mean_goal\")\n",
        "plt.plot(range(len(best_goals)), best_goals, label=\"best_goal\")\n",
        "plt.legend()\n",
        "plt.show()\n",
        "\n",
        "\n",
        "best_solution = my_population.get_best()\n",
        "goal = best_solution.goal_function()\n",
        "mean_goal = my_population.get_mean_goal()\n",
        "\n",
        "#visualize solution\n",
        "# print(f\"Solution found within {steps} steps.\")\n",
        "print(f\"Solution's goal function {goal}\")\n",
        "print(f\"Populations's mean goal function {mean_goal}\")\n",
        "visualize_table(best_solution.permutation_to_board())"
      ],
      "execution_count": 33,
      "outputs": [
        {
          "output_type": "stream",
          "name": "stderr",
          "text": [
            " 42%|████▏     | 419/1000 [00:01<00:01, 316.91it/s]\n"
          ]
        },
        {
          "output_type": "display_data",
          "data": {
            "image/png": "[encoded data removed]",
            "text/plain": [
              "<Figure size 432x288 with 1 Axes>"
            ]
          },
          "metadata": {
            "needs_background": "light"
          }
        },
        {
          "output_type": "stream",
          "name": "stdout",
          "text": [
            "Solution's goal function 0\n",
            "Populations's mean goal function 6.54\n"
          ]
        },
        {
          "output_type": "display_data",
          "data": {
            "image/png": "[encoded data removed]",
            "text/plain": [
              "<Figure size 288x288 with 1 Axes>"
            ]
          },
          "metadata": {
            "needs_background": "light"
          }
        }
      ]
    }
  ]
}